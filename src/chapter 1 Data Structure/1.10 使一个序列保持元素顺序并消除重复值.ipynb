{
 "cells": [
  {
   "cell_type": "markdown",
   "metadata": {},
   "source": [
    "# 删除序列相同的元素并保持顺序"
   ]
  },
  {
   "cell_type": "markdown",
   "metadata": {},
   "source": [
    "如果序列上的值都是`hashable`类型，可以使用集合或者生成器解决这个问题"
   ]
  },
  {
   "cell_type": "code",
   "execution_count": 42,
   "metadata": {
    "ExecuteTime": {
     "end_time": "2020-08-20T06:32:38.155852Z",
     "start_time": "2020-08-20T06:32:38.148894Z"
    }
   },
   "outputs": [
    {
     "data": {
      "text/plain": [
       "[1, 2, 5, 9, 10]"
      ]
     },
     "execution_count": 42,
     "metadata": {},
     "output_type": "execute_result"
    }
   ],
   "source": [
    "# 使用集合解决,但是元素顺序会被打乱\n",
    "a = [1, 5, 2, 1, 9, 1, 5, 10]\n",
    "\n",
    "list(set(a))"
   ]
  },
  {
   "cell_type": "code",
   "execution_count": 47,
   "metadata": {
    "ExecuteTime": {
     "end_time": "2020-08-20T06:35:02.140760Z",
     "start_time": "2020-08-20T06:35:02.110366Z"
    }
   },
   "outputs": [
    {
     "data": {
      "text/plain": [
       "[1, 5, 2, 9, 10]"
      ]
     },
     "execution_count": 47,
     "metadata": {},
     "output_type": "execute_result"
    }
   ],
   "source": [
    "# 使用 not in 进行判断即可\n",
    "\n",
    "a = [1, 5, 2, 1, 9, 1, 5, 10]\n",
    "\n",
    "dedupe_list = list()\n",
    "for i in a:\n",
    "    if i not in dedupe_list:\n",
    "        dedupe_list.append(i)\n",
    "\n",
    "\n",
    "dedupe_list"
   ]
  },
  {
   "cell_type": "code",
   "execution_count": 48,
   "metadata": {
    "ExecuteTime": {
     "end_time": "2020-08-20T06:35:03.795121Z",
     "start_time": "2020-08-20T06:35:03.767087Z"
    }
   },
   "outputs": [
    {
     "data": {
      "text/plain": [
       "[1, 5, 2, 9, 10]"
      ]
     },
     "execution_count": 48,
     "metadata": {},
     "output_type": "execute_result"
    }
   ],
   "source": [
    "# 生成器\n",
    "\n",
    "\n",
    "def dedupe(items):\n",
    "    seen = list()\n",
    "    for item in items:\n",
    "        if item not in seen:\n",
    "            yield item\n",
    "            seen.append(item)\n",
    "\n",
    "\n",
    "a = [1, 5, 2, 1, 9, 1, 5, 10]\n",
    "\n",
    "list(dedupe(a))"
   ]
  }
 ],
 "metadata": {
  "kernelspec": {
   "display_name": "Python 3",
   "language": "python",
   "name": "python3"
  },
  "language_info": {
   "codemirror_mode": {
    "name": "ipython",
    "version": 3
   },
   "file_extension": ".py",
   "mimetype": "text/x-python",
   "name": "python",
   "nbconvert_exporter": "python",
   "pygments_lexer": "ipython3",
   "version": "3.7.6"
  }
 },
 "nbformat": 4,
 "nbformat_minor": 4
}

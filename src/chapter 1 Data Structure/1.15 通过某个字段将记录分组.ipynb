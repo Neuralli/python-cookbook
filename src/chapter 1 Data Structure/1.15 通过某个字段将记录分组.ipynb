{
 "cells": [
  {
   "cell_type": "markdown",
   "metadata": {},
   "source": [
    "根据某个特定的字段，进行分组"
   ]
  },
  {
   "cell_type": "markdown",
   "metadata": {},
   "source": [
    "可以使用 `itertools.groupby()`函数对数据进行操作"
   ]
  },
  {
   "cell_type": "code",
   "execution_count": 1,
   "metadata": {
    "ExecuteTime": {
     "end_time": "2020-08-20T08:35:41.887179Z",
     "start_time": "2020-08-20T08:35:41.879204Z"
    }
   },
   "outputs": [],
   "source": [
    "rows = [\n",
    "    {'address': '5412 N CLARK', 'date': '07/01/2012'},\n",
    "    {'address': '5148 N CLARK', 'date': '07/04/2012'},\n",
    "    {'address': '5800 E 58TH', 'date': '07/02/2012'},\n",
    "    {'address': '2122 N CLARK', 'date': '07/03/2012'},\n",
    "    {'address': '5645 N RAVENSWOOD', 'date': '07/02/2012'},\n",
    "    {'address': '1060 W ADDISON', 'date': '07/02/2012'},\n",
    "    {'address': '4801 N BROADWAY', 'date': '07/01/2012'},\n",
    "    {'address': '1039 W GRANVILLE', 'date': '07/04/2012'},\n",
    "]"
   ]
  },
  {
   "cell_type": "code",
   "execution_count": 11,
   "metadata": {
    "ExecuteTime": {
     "end_time": "2020-08-20T08:58:03.474899Z",
     "start_time": "2020-08-20T08:58:03.468918Z"
    }
   },
   "outputs": [
    {
     "name": "stdout",
     "output_type": "stream",
     "text": [
      "07/01/2012\n",
      "  {'address': '5412 N CLARK', 'date': '07/01/2012'}\n",
      "  {'address': '4801 N BROADWAY', 'date': '07/01/2012'}\n",
      "07/02/2012\n",
      "  {'address': '5800 E 58TH', 'date': '07/02/2012'}\n",
      "  {'address': '5645 N RAVENSWOOD', 'date': '07/02/2012'}\n",
      "  {'address': '1060 W ADDISON', 'date': '07/02/2012'}\n",
      "07/03/2012\n",
      "  {'address': '2122 N CLARK', 'date': '07/03/2012'}\n",
      "07/04/2012\n",
      "  {'address': '5148 N CLARK', 'date': '07/04/2012'}\n",
      "  {'address': '1039 W GRANVILLE', 'date': '07/04/2012'}\n"
     ]
    }
   ],
   "source": [
    "# 使用 date 字段进行排序\n",
    "\n",
    "from operator import itemgetter\n",
    "from itertools import groupby\n",
    "\n",
    "# sort by desired fields first\n",
    "# rows.sort(key=itemgetter('date'))\n",
    "\n",
    "\n",
    "# iterate in groups\n",
    "for date,items in groupby(rows,key=itemgetter('date')):\n",
    "    print(date)\n",
    "    for i in items:\n",
    "        print(\" \",i)"
   ]
  },
  {
   "cell_type": "code",
   "execution_count": 16,
   "metadata": {
    "ExecuteTime": {
     "end_time": "2020-08-20T08:59:06.694950Z",
     "start_time": "2020-08-20T08:59:06.686973Z"
    }
   },
   "outputs": [
    {
     "data": {
      "text/plain": [
       "{'07/01/2012': [{'address': '5412 N CLARK', 'date': '07/01/2012'},\n",
       "  {'address': '4801 N BROADWAY', 'date': '07/01/2012'}],\n",
       " '07/02/2012': [{'address': '5800 E 58TH', 'date': '07/02/2012'},\n",
       "  {'address': '5645 N RAVENSWOOD', 'date': '07/02/2012'},\n",
       "  {'address': '1060 W ADDISON', 'date': '07/02/2012'}],\n",
       " '07/03/2012': [{'address': '2122 N CLARK', 'date': '07/03/2012'}],\n",
       " '07/04/2012': [{'address': '5148 N CLARK', 'date': '07/04/2012'},\n",
       "  {'address': '1039 W GRANVILLE', 'date': '07/04/2012'}]}"
      ]
     },
     "execution_count": 16,
     "metadata": {},
     "output_type": "execute_result"
    }
   ],
   "source": [
    "from collections import defaultdict\n",
    "rows_by_date = defaultdict(list)\n",
    "for row in rows:\n",
    "    rows_by_date[row['date']].append(row)\n",
    "\n",
    "dict(rows_by_date)"
   ]
  }
 ],
 "metadata": {
  "kernelspec": {
   "display_name": "Python 3",
   "language": "python",
   "name": "python3"
  },
  "language_info": {
   "codemirror_mode": {
    "name": "ipython",
    "version": 3
   },
   "file_extension": ".py",
   "mimetype": "text/x-python",
   "name": "python",
   "nbconvert_exporter": "python",
   "pygments_lexer": "ipython3",
   "version": "3.7.6"
  }
 },
 "nbformat": 4,
 "nbformat_minor": 4
}

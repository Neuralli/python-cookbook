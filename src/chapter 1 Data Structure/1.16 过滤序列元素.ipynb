{
 "cells": [
  {
   "cell_type": "markdown",
   "metadata": {},
   "source": [
    "假设你有一个序列元素，想利用一些规则提取其中的值或者缩短序列"
   ]
  },
  {
   "cell_type": "markdown",
   "metadata": {},
   "source": [
    "可以尝试使用列表推导，也可以使用生成器表达式产生过滤的元素\n",
    "\n",
    "使用列表推导推导会占用大量的内存"
   ]
  },
  {
   "cell_type": "code",
   "execution_count": 3,
   "metadata": {
    "ExecuteTime": {
     "end_time": "2020-08-20T09:39:52.558510Z",
     "start_time": "2020-08-20T09:39:52.551538Z"
    }
   },
   "outputs": [
    {
     "data": {
      "text/plain": [
       "[1, 2, 9, 8]"
      ]
     },
     "execution_count": 3,
     "metadata": {},
     "output_type": "execute_result"
    }
   ],
   "source": [
    "my_list = [1, 2, 9, 8, -5, -6, -2, 0]\n",
    "\n",
    "# 使用列表推导式\n",
    "[i for i in my_list if i > 0]"
   ]
  },
  {
   "cell_type": "code",
   "execution_count": 11,
   "metadata": {
    "ExecuteTime": {
     "end_time": "2020-08-20T09:45:40.220526Z",
     "start_time": "2020-08-20T09:45:40.215538Z"
    }
   },
   "outputs": [
    {
     "name": "stdout",
     "output_type": "stream",
     "text": [
      "1\n",
      "2\n",
      "9\n",
      "8\n"
     ]
    }
   ],
   "source": [
    "# 使用生成器完成元素的获取\n",
    "pos = (i for i in my_list if i > 0)\n",
    "\n",
    "for x in pos:\n",
    "    print(x)"
   ]
  }
 ],
 "metadata": {
  "kernelspec": {
   "display_name": "Python 3",
   "language": "python",
   "name": "python3"
  },
  "language_info": {
   "codemirror_mode": {
    "name": "ipython",
    "version": 3
   },
   "file_extension": ".py",
   "mimetype": "text/x-python",
   "name": "python",
   "nbconvert_exporter": "python",
   "pygments_lexer": "ipython3",
   "version": "3.7.6"
  }
 },
 "nbformat": 4,
 "nbformat_minor": 4
}

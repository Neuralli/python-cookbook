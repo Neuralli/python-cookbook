{
 "cells": [
  {
   "cell_type": "markdown",
   "metadata": {
    "ExecuteTime": {
     "end_time": "2020-08-10T02:56:03.235897Z",
     "start_time": "2020-08-10T02:56:03.228909Z"
    },
    "collapsed": true,
    "execution": {
     "iopub.execute_input": "2020-08-10T02:55:09.503Z",
     "iopub.status.busy": "2020-08-10T02:55:09.499Z",
     "iopub.status.idle": "2020-08-10T02:55:09.513Z",
     "shell.execute_reply": "2020-08-10T02:55:09.516Z"
    },
    "jupyter": {
     "outputs_hidden": false,
     "source_hidden": false
    },
    "nteract": {
     "transient": {
      "deleting": false
     }
    }
   },
   "source": [
    "# 解压可迭代对象赋值给多个变量\n",
    "如果一个可迭代对象的元素个数超过变量个数的时候，会抛出ValueError,那么怎么从这个可迭代对象中解压出N个元素出来？"
   ]
  },
  {
   "cell_type": "markdown",
   "metadata": {},
   "source": [
    "python中的`*`表达式可以解决这个问题,可参考如下使用方法："
   ]
  },
  {
   "cell_type": "code",
   "execution_count": 2,
   "metadata": {
    "ExecuteTime": {
     "end_time": "2020-08-10T03:00:33.338316Z",
     "start_time": "2020-08-10T03:00:33.334326Z"
    }
   },
   "outputs": [],
   "source": [
    "def drop_first_last(grades):\n",
    "    first, *maddle, last = grades\n",
    "    return avg(middel)"
   ]
  },
  {
   "cell_type": "code",
   "execution_count": 5,
   "metadata": {
    "ExecuteTime": {
     "end_time": "2020-08-10T03:05:44.649307Z",
     "start_time": "2020-08-10T03:05:44.643318Z"
    }
   },
   "outputs": [
    {
     "name": "stdout",
     "output_type": "stream",
     "text": [
      "[10, 8, 9, 8, 6, 9, 4, 8]\n",
      "7.75\n",
      "5\n"
     ]
    }
   ],
   "source": [
    "# `*`操作列表\n",
    "\n",
    "sales_goods = [10, 8, 9, 8, 6, 9, 4, 8, 5]\n",
    "\n",
    "*trailing_qtrs, current_qtrs = sales_goods\n",
    "trailing_avg = sum(trailing_qtrs)/len(trailing_qtrs)\n",
    "\n",
    "print(trailing_qtrs)\n",
    "print(trailing_avg)\n",
    "print(current_qtrs)"
   ]
  },
  {
   "cell_type": "code",
   "execution_count": 10,
   "metadata": {
    "ExecuteTime": {
     "end_time": "2020-08-10T03:14:11.001184Z",
     "start_time": "2020-08-10T03:14:10.995201Z"
    }
   },
   "outputs": [
    {
     "name": "stdout",
     "output_type": "stream",
     "text": [
      "nobody\n",
      "/var/empty\n",
      "/usr/bin/false\n"
     ]
    }
   ],
   "source": [
    "# `*`操作字符串\n",
    "line = 'nobody:*:-2:-2:Unprivileged User:/var/empty:/usr/bin/false'\n",
    "\n",
    "uname, *fields, homedir, sh = line.split(\":\")\n",
    "print(uname)\n",
    "\n",
    "print(homedir)\n",
    "\n",
    "print(sh)"
   ]
  },
  {
   "cell_type": "code",
   "execution_count": 18,
   "metadata": {
    "ExecuteTime": {
     "end_time": "2020-08-10T03:27:44.313758Z",
     "start_time": "2020-08-10T03:27:44.307777Z"
    }
   },
   "outputs": [
    {
     "name": "stdout",
     "output_type": "stream",
     "text": [
      "27\n"
     ]
    }
   ],
   "source": [
    "# `*`实现递归\n",
    "\n",
    "\n",
    "def sum(items):\n",
    "    head, *tail = items\n",
    "    return head+sum(tail) if tail else head\n",
    "\n",
    "\n",
    "items = [1, 2, 3, 4, 5, 6, 7]\n",
    "\n",
    "print()\n",
    "\n",
    "head, *tail = items\n",
    "print(sum(tail))"
   ]
  }
 ],
 "metadata": {
  "kernel_info": {
   "name": "python3"
  },
  "kernelspec": {
   "display_name": "Python 3",
   "language": "python",
   "name": "python3"
  },
  "language_info": {
   "codemirror_mode": {
    "name": "ipython",
    "version": 3
   },
   "file_extension": ".py",
   "mimetype": "text/x-python",
   "name": "python",
   "nbconvert_exporter": "python",
   "pygments_lexer": "ipython3",
   "version": "3.7.6"
  },
  "nteract": {
   "version": "0.24.1"
  }
 },
 "nbformat": 4,
 "nbformat_minor": 1
}

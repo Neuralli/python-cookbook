{
 "cells": [
  {
   "cell_type": "markdown",
   "metadata": {},
   "source": [
    "# 保留最后N个元素"
   ]
  },
  {
   "cell_type": "markdown",
   "metadata": {},
   "source": [
    "在迭代操作或者其他操作的时候，怎样保留最后有限的几个元素的历史记录？"
   ]
  },
  {
   "cell_type": "markdown",
   "metadata": {},
   "source": [
    "使用 collections.deque 即可实现该项需求"
   ]
  },
  {
   "cell_type": "code",
   "execution_count": 3,
   "metadata": {
    "ExecuteTime": {
     "end_time": "2020-08-10T03:43:40.827859Z",
     "start_time": "2020-08-10T03:43:40.819878Z"
    }
   },
   "outputs": [
    {
     "name": "stdout",
     "output_type": "stream",
     "text": [
      "deque([1], maxlen=3)\n",
      "deque([1, 2], maxlen=3)\n",
      "deque([1, 2, 3], maxlen=3)\n",
      "deque([2, 3, 4], maxlen=3)\n",
      "deque([5, 2, 3], maxlen=3)\n"
     ]
    }
   ],
   "source": [
    "# 复杂度为o(1),appendleft 的复杂度为o(1)而不是列表的哦（n）\n",
    "\n",
    "from collections import deque\n",
    "\n",
    "que = deque(maxlen=3)\n",
    "\n",
    "que.append(1)\n",
    "print(que)\n",
    "que.append(2)\n",
    "print(que)\n",
    "que.append(3)\n",
    "print(que)\n",
    "que.append(4)\n",
    "print(que)\n",
    "\n",
    "que.appendleft(5)\n",
    "print(que)"
   ]
  }
 ],
 "metadata": {
  "kernelspec": {
   "display_name": "Python 3",
   "language": "python",
   "name": "python3"
  },
  "language_info": {
   "codemirror_mode": {
    "name": "ipython",
    "version": 3
   },
   "file_extension": ".py",
   "mimetype": "text/x-python",
   "name": "python",
   "nbconvert_exporter": "python",
   "pygments_lexer": "ipython3",
   "version": "3.7.6"
  }
 },
 "nbformat": 4,
 "nbformat_minor": 4
}

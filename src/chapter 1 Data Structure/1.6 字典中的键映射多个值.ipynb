{
 "cells": [
  {
   "cell_type": "markdown",
   "metadata": {},
   "source": [
    "# 字典中的键映射多个值"
   ]
  },
  {
   "cell_type": "markdown",
   "metadata": {},
   "source": [
    "怎样实现一个键对应多个值得字典（也叫`mutidict`)?"
   ]
  },
  {
   "cell_type": "markdown",
   "metadata": {},
   "source": [
    "一个字典就是一个键值对，如果想要一个键对应多个值，那么便需要将多个值放置在另外的容器中，比如列表或者集合中。"
   ]
  },
  {
   "cell_type": "code",
   "execution_count": 3,
   "metadata": {
    "ExecuteTime": {
     "end_time": "2020-08-11T02:42:42.497570Z",
     "start_time": "2020-08-11T02:42:42.489758Z"
    }
   },
   "outputs": [],
   "source": [
    "a = {\n",
    "    \"a\":[1,2,3,4],\n",
    "    \"b\":(5,9,8)\n",
    "}"
   ]
  },
  {
   "cell_type": "markdown",
   "metadata": {},
   "source": [
    "实际情形下选择集合还是列表，取决于实际的需求，如果想要保持插入的顺序，就应该选择适用列表，如果想去掉重复的元素就使用集合，并且不关心元素的顺序。\n",
    "\n",
    "可以使用collections 中的defaultdict 完成这样的需求，`defaultdict`的一个特性便是会自动初始化每个`key`刚开始对应的值，只需要关注元素的操作即可"
   ]
  },
  {
   "cell_type": "code",
   "execution_count": 5,
   "metadata": {
    "ExecuteTime": {
     "end_time": "2020-08-11T02:47:22.863480Z",
     "start_time": "2020-08-11T02:47:22.858495Z"
    }
   },
   "outputs": [
    {
     "name": "stdout",
     "output_type": "stream",
     "text": [
      "defaultdict(<class 'list'>, {'a': [1]})\n"
     ]
    }
   ],
   "source": [
    "# 使用列表容器完成多个元素的存储\n",
    "from collections import defaultdict\n",
    "\n",
    "d = defaultdict(list)\n",
    "d['a'].append(1)\n",
    "print(d)"
   ]
  },
  {
   "cell_type": "code",
   "execution_count": 7,
   "metadata": {
    "ExecuteTime": {
     "end_time": "2020-08-11T02:48:45.082011Z",
     "start_time": "2020-08-11T02:48:45.078022Z"
    }
   },
   "outputs": [
    {
     "name": "stdout",
     "output_type": "stream",
     "text": [
      "defaultdict(<class 'set'>, {'d': {5}})\n"
     ]
    }
   ],
   "source": [
    "# 使用集合完成多个元素的存储\n",
    "\n",
    "from collections import defaultdict\n",
    "\n",
    "s = defaultdict(set)\n",
    "s['d'].add(5)\n",
    "print(s)"
   ]
  },
  {
   "cell_type": "code",
   "execution_count": 12,
   "metadata": {
    "ExecuteTime": {
     "end_time": "2020-08-11T02:52:39.377252Z",
     "start_time": "2020-08-11T02:52:39.369444Z"
    }
   },
   "outputs": [
    {
     "name": "stdout",
     "output_type": "stream",
     "text": [
      "{'apple': [995], 'amazon': [896]}\n"
     ]
    }
   ],
   "source": [
    "# 可以选择自行实现 `defaultdict`的功能\n",
    "d = dict()\n",
    "pairs = {\n",
    "    'apple': 995,\n",
    "    \"amazon\": 896\n",
    "}\n",
    "for key, value in pairs.items():\n",
    "    if key not in d:\n",
    "        d[key] = []\n",
    "    d[key].append(value)\n",
    "\n",
    "print(d)"
   ]
  },
  {
   "cell_type": "code",
   "execution_count": 16,
   "metadata": {
    "ExecuteTime": {
     "end_time": "2020-08-11T02:54:40.963218Z",
     "start_time": "2020-08-11T02:54:40.958228Z"
    }
   },
   "outputs": [
    {
     "name": "stdout",
     "output_type": "stream",
     "text": [
      "defaultdict(<class 'list'>, {'apple': [995], 'amazon': [896]})\n"
     ]
    }
   ],
   "source": [
    "# 使用defaultdict 实现功能如下：\n",
    "from collections import defaultdict\n",
    "\n",
    "d = defaultdict(list)\n",
    "\n",
    "for key, value in pairs.items():\n",
    "    d[key].append(value)\n",
    "\n",
    "print(d)"
   ]
  }
 ],
 "metadata": {
  "kernelspec": {
   "display_name": "Python 3",
   "language": "python",
   "name": "python3"
  },
  "language_info": {
   "codemirror_mode": {
    "name": "ipython",
    "version": 3
   },
   "file_extension": ".py",
   "mimetype": "text/x-python",
   "name": "python",
   "nbconvert_exporter": "python",
   "pygments_lexer": "ipython3",
   "version": "3.7.6"
  }
 },
 "nbformat": 4,
 "nbformat_minor": 4
}

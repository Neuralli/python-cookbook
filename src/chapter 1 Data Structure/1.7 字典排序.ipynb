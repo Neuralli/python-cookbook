{
 "cells": [
  {
   "cell_type": "markdown",
   "metadata": {},
   "source": [
    "# 字典排序"
   ]
  },
  {
   "cell_type": "markdown",
   "metadata": {},
   "source": [
    "如何在迭代或者序列化的时候控制元素的顺序"
   ]
  },
  {
   "cell_type": "markdown",
   "metadata": {},
   "source": [
    "为了能够控制字典中元素的顺序，可以使用`collection`模块中的`OrderedDict`这个类在迭代操作的时候他们会保持元素被插入的顺序"
   ]
  },
  {
   "cell_type": "code",
   "execution_count": 2,
   "metadata": {
    "ExecuteTime": {
     "end_time": "2020-08-11T03:00:45.243867Z",
     "start_time": "2020-08-11T03:00:45.235905Z"
    }
   },
   "outputs": [
    {
     "name": "stdout",
     "output_type": "stream",
     "text": [
      "OrderedDict([('foo', 1), ('bar', 2), ('spam', 3)])\n"
     ]
    }
   ],
   "source": [
    "from collections import OrderedDict\n",
    "\n",
    "d = OrderedDict()\n",
    "d['foo'] = 1\n",
    "d['bar'] = 2\n",
    "d['spam'] = 3\n",
    "\n",
    "print(d)"
   ]
  },
  {
   "cell_type": "code",
   "execution_count": 3,
   "metadata": {
    "ExecuteTime": {
     "end_time": "2020-08-11T03:02:35.560297Z",
     "start_time": "2020-08-11T03:02:35.556307Z"
    }
   },
   "outputs": [],
   "source": [
    "# 如果你想要构建一个将来需要序列化或者编码成其他格式的时候，OerderedDict 是非常有用的"
   ]
  },
  {
   "cell_type": "code",
   "execution_count": 6,
   "metadata": {
    "ExecuteTime": {
     "end_time": "2020-08-11T03:35:09.980804Z",
     "start_time": "2020-08-11T03:35:09.972996Z"
    }
   },
   "outputs": [
    {
     "name": "stdout",
     "output_type": "stream",
     "text": [
      "{\n",
      "    \"foo\": 1,\n",
      "    \"bar\": 2,\n",
      "    \"spam\": 3\n",
      "}\n"
     ]
    }
   ],
   "source": [
    "import json\n",
    "s = json.dumps(d, indent=4, ensure_ascii=False)\n",
    "print(s)"
   ]
  },
  {
   "cell_type": "markdown",
   "metadata": {},
   "source": [
    "`OrderedDict`内部维护着一个根据键插入顺序排序的双向链表，每次当一个新的元素插入的时候，会自动放置在链表的尾部，对于已经存在的键，不会改变原有的顺序\n",
    "\n",
    "但是，`OrderedDict`的大小是一个普通字典的两倍，因为内部维护着另一个链表，如果需要构建数据量比较大的数据结构的时候，会存在大额的内存消耗。"
   ]
  }
 ],
 "metadata": {
  "kernelspec": {
   "display_name": "Python 3",
   "language": "python",
   "name": "python3"
  },
  "language_info": {
   "codemirror_mode": {
    "name": "ipython",
    "version": 3
   },
   "file_extension": ".py",
   "mimetype": "text/x-python",
   "name": "python",
   "nbconvert_exporter": "python",
   "pygments_lexer": "ipython3",
   "version": "3.7.6"
  }
 },
 "nbformat": 4,
 "nbformat_minor": 4
}

{
 "cells": [
  {
   "cell_type": "markdown",
   "metadata": {},
   "source": [
    "去掉文本字符串中的开头部分、结尾或者不想要的字符（如空白）"
   ]
  },
  {
   "cell_type": "markdown",
   "metadata": {},
   "source": [
    "1. `strip`可以去掉开始或者结尾的字符"
   ]
  },
  {
   "cell_type": "code",
   "execution_count": 1,
   "metadata": {
    "ExecuteTime": {
     "end_time": "2020-08-21T06:53:57.855346Z",
     "start_time": "2020-08-21T06:53:57.840417Z"
    }
   },
   "outputs": [
    {
     "data": {
      "text/plain": [
       "'hello python'"
      ]
     },
     "execution_count": 1,
     "metadata": {},
     "output_type": "execute_result"
    }
   ],
   "source": [
    "s = \" hello python \\n \"\n",
    "\n",
    "s.strip()"
   ]
  },
  {
   "cell_type": "code",
   "execution_count": 8,
   "metadata": {
    "ExecuteTime": {
     "end_time": "2020-08-21T06:56:55.263491Z",
     "start_time": "2020-08-21T06:56:55.257514Z"
    }
   },
   "outputs": [
    {
     "data": {
      "text/plain": [
       "' hello python '"
      ]
     },
     "execution_count": 8,
     "metadata": {},
     "output_type": "execute_result"
    }
   ],
   "source": [
    "# 复杂情形可以配合正则表达式进行处理\n",
    "\n",
    "import re\n",
    "s = \" hello        python \\n \"\n",
    "\n",
    "re.sub(r\"\\s+\", \" \", s)"
   ]
  }
 ],
 "metadata": {
  "kernelspec": {
   "display_name": "Python 3",
   "language": "python",
   "name": "python3"
  },
  "language_info": {
   "codemirror_mode": {
    "name": "ipython",
    "version": 3
   },
   "file_extension": ".py",
   "mimetype": "text/x-python",
   "name": "python",
   "nbconvert_exporter": "python",
   "pygments_lexer": "ipython3",
   "version": "3.7.6"
  }
 },
 "nbformat": 4,
 "nbformat_minor": 4
}

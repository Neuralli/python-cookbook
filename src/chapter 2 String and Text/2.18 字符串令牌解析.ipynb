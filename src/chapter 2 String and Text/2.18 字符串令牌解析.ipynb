{
 "cells": [
  {
   "cell_type": "markdown",
   "metadata": {},
   "source": [
    "假定你有一个字符串，想从左至右将其解析为一个令牌流。"
   ]
  },
  {
   "cell_type": "code",
   "execution_count": 1,
   "metadata": {
    "ExecuteTime": {
     "end_time": "2020-08-21T08:15:53.052144Z",
     "start_time": "2020-08-21T08:15:53.048155Z"
    }
   },
   "outputs": [],
   "source": [
    "# 该部分属于高级令牌部分的内容，可参照如下链接\n",
    "# https://python3-cookbook.readthedocs.io/zh_CN/latest/c02/p18_tokenizing_text.html"
   ]
  }
 ],
 "metadata": {
  "kernelspec": {
   "display_name": "Python 3",
   "language": "python",
   "name": "python3"
  },
  "language_info": {
   "codemirror_mode": {
    "name": "ipython",
    "version": 3
   },
   "file_extension": ".py",
   "mimetype": "text/x-python",
   "name": "python",
   "nbconvert_exporter": "python",
   "pygments_lexer": "ipython3",
   "version": "3.7.6"
  }
 },
 "nbformat": 4,
 "nbformat_minor": 4
}

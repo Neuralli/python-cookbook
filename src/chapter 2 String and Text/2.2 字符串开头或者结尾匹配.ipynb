{
 "cells": [
  {
   "cell_type": "markdown",
   "metadata": {},
   "source": [
    "`str.startswith()`或者`str.endswith()`可以完成字符串的开头或者结尾"
   ]
  },
  {
   "cell_type": "code",
   "execution_count": 5,
   "metadata": {
    "ExecuteTime": {
     "end_time": "2020-08-21T03:21:32.267197Z",
     "start_time": "2020-08-21T03:21:32.261214Z"
    }
   },
   "outputs": [
    {
     "data": {
      "text/plain": [
       "['.ipynb_checkpoints', '2.1 使用界定符分割字符串.ipynb', '2.2 字符串开头或者结尾匹配.ipynb']"
      ]
     },
     "execution_count": 5,
     "metadata": {},
     "output_type": "execute_result"
    }
   ],
   "source": [
    "import os\n",
    "filnames = os.listdir()\n",
    "filnames"
   ]
  },
  {
   "cell_type": "code",
   "execution_count": 6,
   "metadata": {
    "ExecuteTime": {
     "end_time": "2020-08-21T03:22:32.062033Z",
     "start_time": "2020-08-21T03:22:32.056049Z"
    }
   },
   "outputs": [
    {
     "data": {
      "text/plain": [
       "['2.1 使用界定符分割字符串.ipynb', '2.2 字符串开头或者结尾匹配.ipynb']"
      ]
     },
     "execution_count": 6,
     "metadata": {},
     "output_type": "execute_result"
    }
   ],
   "source": [
    "[name for name in filnames if name.endswith('.ipynb')]"
   ]
  },
  {
   "cell_type": "code",
   "execution_count": 12,
   "metadata": {
    "ExecuteTime": {
     "end_time": "2020-08-21T03:29:35.592903Z",
     "start_time": "2020-08-21T03:29:35.588913Z"
    }
   },
   "outputs": [],
   "source": [
    "# startswith() or endswith() must have a tuple(or str) params ,list or set must trans to tuple\n",
    "\n",
    "chioces = ['http', 'https']\n",
    "\n",
    "url = \"https://www.google.com\"\n",
    "\n",
    "# url.startswith(chioces)\n",
    "# TypeError: startswith first arg must be str or a tuple of str, not list"
   ]
  },
  {
   "cell_type": "code",
   "execution_count": 9,
   "metadata": {
    "ExecuteTime": {
     "end_time": "2020-08-21T03:28:29.325202Z",
     "start_time": "2020-08-21T03:28:29.318218Z"
    }
   },
   "outputs": [
    {
     "data": {
      "text/plain": [
       "True"
      ]
     },
     "execution_count": 9,
     "metadata": {},
     "output_type": "execute_result"
    }
   ],
   "source": [
    "chioces = ['http', 'https']\n",
    "\n",
    "url = \"https://www.google.com\"\n",
    "\n",
    "url.startswith(tuple(chioces))"
   ]
  }
 ],
 "metadata": {
  "kernelspec": {
   "display_name": "Python 3",
   "language": "python",
   "name": "python3"
  },
  "language_info": {
   "codemirror_mode": {
    "name": "ipython",
    "version": 3
   },
   "file_extension": ".py",
   "mimetype": "text/x-python",
   "name": "python",
   "nbconvert_exporter": "python",
   "pygments_lexer": "ipython3",
   "version": "3.7.6"
  }
 },
 "nbformat": 4,
 "nbformat_minor": 4
}

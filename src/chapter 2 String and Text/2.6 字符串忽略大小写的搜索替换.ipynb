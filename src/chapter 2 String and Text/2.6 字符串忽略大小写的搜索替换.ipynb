{
 "cells": [
  {
   "cell_type": "markdown",
   "metadata": {},
   "source": [
    "不区分大小写进行搜索替换，只需要在进行匹配的过程中传入标志参数`re.IGNORECASE`即可"
   ]
  },
  {
   "cell_type": "code",
   "execution_count": 4,
   "metadata": {
    "ExecuteTime": {
     "end_time": "2020-08-21T04:07:58.270457Z",
     "start_time": "2020-08-21T04:07:58.263477Z"
    }
   },
   "outputs": [
    {
     "data": {
      "text/plain": [
       "['PYTHON', 'python', 'Python']"
      ]
     },
     "execution_count": 4,
     "metadata": {},
     "output_type": "execute_result"
    }
   ],
   "source": [
    "import re\n",
    "text = 'UPPER PYTHON, lower python, Mixed Python'\n",
    "\n",
    "re.findall('python',text,flags=re.IGNORECASE)"
   ]
  },
  {
   "cell_type": "code",
   "execution_count": 7,
   "metadata": {
    "ExecuteTime": {
     "end_time": "2020-08-21T04:08:37.949887Z",
     "start_time": "2020-08-21T04:08:37.944899Z"
    }
   },
   "outputs": [
    {
     "data": {
      "text/plain": [
       "'UPPER java, lower java, Mixed java'"
      ]
     },
     "execution_count": 7,
     "metadata": {},
     "output_type": "execute_result"
    }
   ],
   "source": [
    "import re\n",
    "text = 'UPPER PYTHON, lower python, Mixed Python'\n",
    "\n",
    "\n",
    "re.sub('python', 'java', text, flags=re.IGNORECAE)\n",
    "\n",
    "# 被替换的字符串的大小写不会与原来保持一致"
   ]
  },
  {
   "cell_type": "code",
   "execution_count": 9,
   "metadata": {
    "ExecuteTime": {
     "end_time": "2020-08-21T04:10:11.548990Z",
     "start_time": "2020-08-21T04:10:11.543006Z"
    }
   },
   "outputs": [
    {
     "data": {
      "text/plain": [
       "'upper java, lower java, mixed java'"
      ]
     },
     "execution_count": 9,
     "metadata": {},
     "output_type": "execute_result"
    }
   ],
   "source": [
    "import re\n",
    "text = 'UPPER PYTHON, lower python, Mixed Python'\n",
    "\n",
    "text_lower = text.lower()\n",
    "\n",
    "re.sub('python', 'java', text_lower, flags=re.IGNORECASE)\n",
    "\n",
    "# 全部转换为小写之后进行处理"
   ]
  }
 ],
 "metadata": {
  "kernelspec": {
   "display_name": "Python 3",
   "language": "python",
   "name": "python3"
  },
  "language_info": {
   "codemirror_mode": {
    "name": "ipython",
    "version": 3
   },
   "file_extension": ".py",
   "mimetype": "text/x-python",
   "name": "python",
   "nbconvert_exporter": "python",
   "pygments_lexer": "ipython3",
   "version": "3.7.6"
  }
 },
 "nbformat": 4,
 "nbformat_minor": 4
}

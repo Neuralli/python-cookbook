{
 "cells": [
  {
   "cell_type": "code",
   "execution_count": 8,
   "metadata": {
    "ExecuteTime": {
     "end_time": "2020-08-21T06:34:15.605523Z",
     "start_time": "2020-08-21T06:34:15.598542Z"
    }
   },
   "outputs": [
    {
     "data": {
      "text/plain": [
       "['no']"
      ]
     },
     "execution_count": 8,
     "metadata": {},
     "output_type": "execute_result"
    }
   ],
   "source": [
    "# 使用正则表达式的过程中，返回的结果是最长可能匹配\n",
    "\n",
    "import re\n",
    "\n",
    "string = ' computer say \"no\".'\n",
    "\n",
    "re_pat = re.compile(r'\"(.*)\"')\n",
    "\n",
    "re_pat.findall(string)"
   ]
  },
  {
   "cell_type": "code",
   "execution_count": 10,
   "metadata": {
    "ExecuteTime": {
     "end_time": "2020-08-21T06:34:41.304911Z",
     "start_time": "2020-08-21T06:34:41.296934Z"
    }
   },
   "outputs": [
    {
     "data": {
      "text/plain": [
       "['no.\",phone say \"yes.']"
      ]
     },
     "execution_count": 10,
     "metadata": {},
     "output_type": "execute_result"
    }
   ],
   "source": [
    "import re\n",
    "\n",
    "string = ' computer say \"no.\",phone say \"yes.\"'\n",
    "\n",
    "re_pat = re.compile(r'\"(.*)\"')\n",
    "\n",
    "re_pat.findall(string)"
   ]
  },
  {
   "cell_type": "code",
   "execution_count": 13,
   "metadata": {
    "ExecuteTime": {
     "end_time": "2020-08-21T06:36:07.878166Z",
     "start_time": "2020-08-21T06:36:07.871220Z"
    }
   },
   "outputs": [
    {
     "data": {
      "text/plain": [
       "['no.', 'yes.']"
      ]
     },
     "execution_count": 13,
     "metadata": {},
     "output_type": "execute_result"
    }
   ],
   "source": [
    "# 为了保证最终结果是非贪婪匹配，可以在 * 操作符之后使用 ？\n",
    "import re\n",
    "\n",
    "string = ' computer say \"no.\",phone say \"yes.\"'\n",
    "\n",
    "re_pat = re.compile(r'\"(.*?)\"')\n",
    "\n",
    "re_pat.findall(string)"
   ]
  }
 ],
 "metadata": {
  "kernelspec": {
   "display_name": "Python 3",
   "language": "python",
   "name": "python3"
  },
  "language_info": {
   "codemirror_mode": {
    "name": "ipython",
    "version": 3
   },
   "file_extension": ".py",
   "mimetype": "text/x-python",
   "name": "python",
   "nbconvert_exporter": "python",
   "pygments_lexer": "ipython3",
   "version": "3.7.6"
  }
 },
 "nbformat": 4,
 "nbformat_minor": 4
}

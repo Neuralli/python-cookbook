{
 "cells": [
  {
   "cell_type": "markdown",
   "metadata": {},
   "source": [
    "对一大段文本实现跨行匹配,可以在`re.compile()`中传递标志参数 `re.DOALL`"
   ]
  },
  {
   "cell_type": "code",
   "execution_count": 8,
   "metadata": {
    "ExecuteTime": {
     "end_time": "2020-08-21T06:48:10.352649Z",
     "start_time": "2020-08-21T06:48:10.345668Z"
    }
   },
   "outputs": [
    {
     "data": {
      "text/plain": [
       "[' this is \\na multiline comment ']"
      ]
     },
     "execution_count": 8,
     "metadata": {},
     "output_type": "execute_result"
    }
   ],
   "source": [
    "import re\n",
    "text = \"\"\"/* this is \n",
    "a multiline comment */\n",
    "\"\"\"\n",
    "\n",
    "re_pat = re.compile(r'/\\*(.*?)\\*/',re.DOTALL)\n",
    "\n",
    "re_pat.findall(text)"
   ]
  }
 ],
 "metadata": {
  "kernelspec": {
   "display_name": "Python 3",
   "language": "python",
   "name": "python3"
  },
  "language_info": {
   "codemirror_mode": {
    "name": "ipython",
    "version": 3
   },
   "file_extension": ".py",
   "mimetype": "text/x-python",
   "name": "python",
   "nbconvert_exporter": "python",
   "pygments_lexer": "ipython3",
   "version": "3.7.6"
  }
 },
 "nbformat": 4,
 "nbformat_minor": 4
}
